{
 "cells": [
  {
   "cell_type": "code",
   "execution_count": 1,
   "id": "3e146faa-c316-47bb-ae52-0d2a4f6adefe",
   "metadata": {},
   "outputs": [
    {
     "name": "stderr",
     "output_type": "stream",
     "text": [
      "C:\\Users\\J\\anaconda3\\envs\\new_base\\lib\\site-packages\\tqdm\\auto.py:22: TqdmWarning: IProgress not found. Please update jupyter and ipywidgets. See https://ipywidgets.readthedocs.io/en/stable/user_install.html\n",
      "  from .autonotebook import tqdm as notebook_tqdm\n"
     ]
    }
   ],
   "source": [
    "import torch\n",
    "from torch.utils.data import DataLoader\n",
    "from torch.utils.data.sampler import SubsetRandomSampler\n",
    "import torch.nn as nn\n",
    "from torchvision import datasets\n",
    "import torchvision.transforms as transforms\n",
    "import matplotlib.pyplot as plt\n",
    "from tqdm import tqdm\n",
    "import time\n",
    "import numpy as np\n",
    "import IPython.display as ipd\n",
    "from model.resnet import resnet152, resnet34, resnet18\n",
    "\n",
    "from utils.dataloader import CaptchaDataset"
   ]
  },
  {
   "cell_type": "markdown",
   "id": "765da0be-f2fd-4ad5-9229-7b9889af75c6",
   "metadata": {},
   "source": [
    "# hyperparameter"
   ]
  },
  {
   "cell_type": "code",
   "execution_count": 2,
   "id": "aa051e42-ba1d-404f-a9af-15c7331b8e6a",
   "metadata": {},
   "outputs": [],
   "source": [
    "EPOCHS = 50\n",
    "CUDA = torch.cuda.is_available()\n",
    "DEVICE = 'cuda' if CUDA else 'cpu'\n",
    "MODEL_PATH = './weights/resnet18_resize'\n",
    "BATCH_SIZE = 1\n",
    "PATIENCE = 5"
   ]
  },
  {
   "cell_type": "markdown",
   "id": "f0848097-b68f-4a5b-8e31-bc79b10f2d4a",
   "metadata": {},
   "source": [
    "# dataloader"
   ]
  },
  {
   "cell_type": "code",
   "execution_count": 3,
   "id": "247807b6-b494-4aae-b38a-696da29bf332",
   "metadata": {},
   "outputs": [],
   "source": [
    "image_transform = transforms.Compose([\n",
    "    # transforms.Resize([224, 224]),\n",
    "    transforms.ToTensor(),\n",
    "    # transforms.Normalize(mean=[0.485, 0.456, 0.406],\n",
    "    #                      std=[0.229, 0.224, 0.225])\n",
    "])\n",
    "\n",
    "dataset = CaptchaDataset('./Large_Captcha_Dataset', isFilter=True, isCrop=True, isResize=True)\n",
    "# dataset = CaptchaDataset('./Large_Captcha_Dataset', isFilter=True, isCrop=True)"
   ]
  },
  {
   "cell_type": "code",
   "execution_count": 4,
   "id": "8a19d43e-22ab-4fa6-a1f0-7b9ea772a9e2",
   "metadata": {},
   "outputs": [],
   "source": [
    "random_seed = 123\n",
    "test_split = 0.2\n",
    "validation_split = 0.1\n",
    "shuffling_dataset = True\n",
    "dataset_size = len(dataset) # 82328"
   ]
  },
  {
   "cell_type": "code",
   "execution_count": 5,
   "id": "c9cccd75-154a-4b90-821b-6b8c870ccccc",
   "metadata": {},
   "outputs": [],
   "source": [
    "indices = list(range(dataset_size))\n",
    "test_split_size = int(np.floor(test_split * dataset_size)) # 16465\n",
    "validation_split_size = int(np.floor(test_split_size * 0.5)) # 8232"
   ]
  },
  {
   "cell_type": "code",
   "execution_count": 6,
   "id": "01677ed7-3538-4b2a-8f3e-df9b88286794",
   "metadata": {
    "tags": []
   },
   "outputs": [],
   "source": [
    "if shuffling_dataset:\n",
    "    np.random.seed(random_seed)\n",
    "    np.random.shuffle(indices)\n",
    "train_indices, test_indices = indices[test_split_size:], indices[:test_split_size]\n",
    "train_indices, val_indices = train_indices[validation_split_size:], train_indices[:validation_split_size]"
   ]
  },
  {
   "cell_type": "code",
   "execution_count": 7,
   "id": "52c13d1e-e39b-475c-b855-3ee863d927ff",
   "metadata": {},
   "outputs": [],
   "source": [
    "train_sampler = SubsetRandomSampler(train_indices) # 57631\n",
    "valid_sampler = SubsetRandomSampler(val_indices) # 8232\n",
    "test_sampler = SubsetRandomSampler(test_indices) # 16465"
   ]
  },
  {
   "cell_type": "code",
   "execution_count": 8,
   "id": "1bd09a3f-4c1e-40eb-ba76-6a75abac47b8",
   "metadata": {},
   "outputs": [],
   "source": [
    "train_dataloader = DataLoader(dataset, batch_size=BATCH_SIZE, sampler=train_sampler)\n",
    "val_dataloader = DataLoader(dataset, batch_size=BATCH_SIZE, sampler=valid_sampler)\n",
    "test_dataloader = DataLoader(dataset, batch_size=BATCH_SIZE, sampler=test_sampler)"
   ]
  },
  {
   "cell_type": "markdown",
   "id": "b5f117f1-1e36-43b0-b355-aa7b1bfb1ff6",
   "metadata": {},
   "source": [
    "# model"
   ]
  },
  {
   "cell_type": "code",
   "execution_count": 9,
   "id": "b70d4b77-97f9-4700-9d95-1ec7a10626da",
   "metadata": {},
   "outputs": [],
   "source": [
    "model = resnet18()"
   ]
  },
  {
   "cell_type": "code",
   "execution_count": 10,
   "id": "226a8283-c68c-4dcf-a562-2eff2025098d",
   "metadata": {},
   "outputs": [],
   "source": [
    "if CUDA:\n",
    "    model = model.cuda()"
   ]
  },
  {
   "cell_type": "markdown",
   "id": "ca79993a-b1b1-4826-8906-11e20da55402",
   "metadata": {},
   "source": [
    "# train"
   ]
  },
  {
   "cell_type": "code",
   "execution_count": 11,
   "id": "4b2414ff-c913-45cd-9c34-663e23739fd9",
   "metadata": {},
   "outputs": [],
   "source": [
    "criterion = nn.CrossEntropyLoss()\n",
    "optimizer = torch.optim.AdamW(model.parameters(), lr=1e-5)"
   ]
  },
  {
   "cell_type": "code",
   "execution_count": 12,
   "id": "9d727a93-1931-4c02-bbb9-b416c354d249",
   "metadata": {},
   "outputs": [],
   "source": [
    "loss_history = []\n",
    "val_loss_history = []"
   ]
  },
  {
   "cell_type": "code",
   "execution_count": 13,
   "id": "342e75b8-db22-4fa2-bc50-3428ec57feef",
   "metadata": {},
   "outputs": [
    {
     "data": {
      "text/plain": [
       "'done'"
      ]
     },
     "execution_count": 13,
     "metadata": {},
     "output_type": "execute_result"
    }
   ],
   "source": [
    "model.train()\n",
    "'done'"
   ]
  },
  {
   "cell_type": "code",
   "execution_count": 14,
   "id": "587e1207-72e6-4f23-a145-707ffe6ae747",
   "metadata": {},
   "outputs": [
    {
     "name": "stdout",
     "output_type": "stream",
     "text": [
      "24/50, 1169.78 sec/epoch\n",
      "stop cnt=4/5, current loss=0.0733, val loss=0.8055\n"
     ]
    },
    {
     "data": {
      "image/png": "[encoded data removed]",
      "text/plain": [
       "<Figure size 2400x120 with 1 Axes>"
      ]
     },
     "metadata": {
      "needs_background": "light"
     },
     "output_type": "display_data"
    },
    {
     "name": "stderr",
     "output_type": "stream",
     "text": [
      "100%|██████████| 57631/57631 [19:25<00:00, 49.47it/s]\n",
      "100%|██████████| 8232/8232 [00:46<00:00, 178.72it/s]\n"
     ]
    }
   ],
   "source": [
    "min_val_loss = 20.\n",
    "stop_cnt = 0\n",
    "for e in range(EPOCHS):\n",
    "    start_time = time.time()\n",
    "    current_loss = []\n",
    "    current_val_loss = []\n",
    "    \n",
    "    for (x, y) in tqdm(train_dataloader):\n",
    "        optimizer.zero_grad()\n",
    "        x = x.to(DEVICE)\n",
    "        y = y.to(DEVICE)\n",
    "        \n",
    "        y1, y2, y3, y4, y5 = y[:, 0], y[:, 1], y[:, 2], y[:, 3], y[:, 4]\n",
    "        \n",
    "        pred1, pred2, pred3, pred4, pred5 = model(x)\n",
    "\n",
    "        loss1 = criterion(pred1, y1)\n",
    "        loss2 = criterion(pred2, y2)\n",
    "        loss3 = criterion(pred3, y3)\n",
    "        loss4 = criterion(pred4, y4)\n",
    "        loss5 = criterion(pred5, y5)\n",
    "        loss = loss1 + loss2 + loss3 + loss4 + loss5\n",
    "        current_loss.append(loss.item())\n",
    "        loss.backward()\n",
    "        optimizer.step()\n",
    "        \n",
    "    current_loss = np.mean(current_loss).item()\n",
    "    loss_history.append(current_loss)\n",
    "    \n",
    "    for (x, y) in tqdm(val_dataloader):\n",
    "        with torch.no_grad():\n",
    "            x = x.to(DEVICE)\n",
    "            y = y.to(DEVICE)\n",
    "            \n",
    "            y1, y2, y3, y4, y5 = y[:, 0], y[:, 1], y[:, 2], y[:, 3], y[:, 4]\n",
    "            \n",
    "            pred1, pred2, pred3, pred4, pred5 = model(x)\n",
    "            \n",
    "            loss1 = criterion(pred1, y1)\n",
    "            loss2 = criterion(pred2, y2)\n",
    "            loss3 = criterion(pred3, y3)\n",
    "            loss4 = criterion(pred4, y4)\n",
    "            loss5 = criterion(pred5, y5)\n",
    "            loss = loss1 + loss2 + loss3 + loss4 + loss5\n",
    "            current_val_loss.append(loss.item())\n",
    "\n",
    "    current_val_loss = np.mean(current_val_loss).item()\n",
    "    val_loss_history.append(current_val_loss)\n",
    "    \n",
    "    if current_val_loss < min_val_loss:\n",
    "        min_val_loss = current_val_loss\n",
    "        stop_cnt = 0\n",
    "        torch.save(model.state_dict(), MODEL_PATH)\n",
    "        \n",
    "    stop_cnt += 1\n",
    "    if stop_cnt == PATIENCE:\n",
    "        break\n",
    "    \n",
    "    ipd.clear_output(wait=True)\n",
    "    print(f\"{e+1}/{EPOCHS}, {time.time()-start_time:.2f} sec/epoch\")\n",
    "    print(f\"stop cnt={stop_cnt}/{PATIENCE}, current loss={current_loss:.4f}, val loss={current_val_loss:.4f}\")\n",
    "    plt.figure(figsize=(20,1),dpi=120)\n",
    "    plt.scatter(np.arange(len(loss_history)), loss_history, label='train')\n",
    "    plt.scatter(np.arange(len(val_loss_history)), val_loss_history, label='valid')\n",
    "    plt.legend(loc=2)\n",
    "    plt.show()\n",
    "    "
   ]
  },
  {
   "cell_type": "code",
   "execution_count": 15,
   "id": "d0c0a72d-35e1-4a88-849e-e69a330a966f",
   "metadata": {},
   "outputs": [
    {
     "name": "stdout",
     "output_type": "stream",
     "text": [
      "25/50, 1211.14 sec/epoch\n",
      "stop cnt=5/5, current loss=0.0663, val loss=0.8989\n"
     ]
    },
    {
     "data": {
      "image/png": "[encoded data removed]",
      "text/plain": [
       "<Figure size 2400x120 with 1 Axes>"
      ]
     },
     "metadata": {
      "needs_background": "light"
     },
     "output_type": "display_data"
    }
   ],
   "source": [
    "print(f\"{e+1}/{EPOCHS}, {time.time()-start_time:.2f} sec/epoch\")\n",
    "print(f\"stop cnt={stop_cnt}/{PATIENCE}, current loss={current_loss:.4f}, val loss={current_val_loss:.4f}\")\n",
    "plt.figure(figsize=(20,1),dpi=120)\n",
    "plt.scatter(np.arange(len(loss_history)), loss_history, label='train')\n",
    "plt.scatter(np.arange(len(val_loss_history)), val_loss_history, label='valid')\n",
    "plt.legend(loc=2)\n",
    "plt.show()"
   ]
  },
  {
   "cell_type": "markdown",
   "id": "7f46a5d0-a6fe-4d05-aaa6-0465030b2a6a",
   "metadata": {},
   "source": [
    "# test"
   ]
  },
  {
   "cell_type": "code",
   "execution_count": 16,
   "id": "a930d8d8-6eaa-46d7-ac65-ba5f6a21e610",
   "metadata": {},
   "outputs": [
    {
     "data": {
      "text/plain": [
       "'done'"
      ]
     },
     "execution_count": 16,
     "metadata": {},
     "output_type": "execute_result"
    }
   ],
   "source": [
    "model.eval()\n",
    "model.load_state_dict(torch.load(MODEL_PATH))\n",
    "'done'"
   ]
  },
  {
   "cell_type": "code",
   "execution_count": 17,
   "id": "d4f5c17f-595d-4e37-9871-67d2641c331b",
   "metadata": {},
   "outputs": [
    {
     "name": "stderr",
     "output_type": "stream",
     "text": [
      "100%|██████████| 16465/16465 [01:23<00:00, 196.40it/s]\n"
     ]
    }
   ],
   "source": [
    "pred_list = [[] for i in range(5)]\n",
    "true_list = [[] for i in range(5)]\n",
    "\n",
    "for (x, y) in tqdm(test_dataloader):\n",
    "    with torch.no_grad():\n",
    "        x = x.to(DEVICE)\n",
    "        y = y.to(DEVICE)\n",
    "\n",
    "        y1, y2, y3, y4, y5 = y[:, 0], y[:, 1], y[:, 2], y[:, 3], y[:, 4]\n",
    "\n",
    "        pred1, pred2, pred3, pred4, pred5 = model(x)\n",
    "        pred1 = torch.argmax(pred1, -1)\n",
    "        pred2 = torch.argmax(pred2, -1)\n",
    "        pred3 = torch.argmax(pred3, -1)\n",
    "        pred4 = torch.argmax(pred4, -1)\n",
    "        pred5 = torch.argmax(pred5, -1)\n",
    "        \n",
    "        pred_list[0] += pred1.detach().cpu().tolist()\n",
    "        pred_list[1] += pred2.detach().cpu().tolist()\n",
    "        pred_list[2] += pred3.detach().cpu().tolist()\n",
    "        pred_list[3] += pred4.detach().cpu().tolist()\n",
    "        pred_list[4] += pred5.detach().cpu().tolist()\n",
    "        \n",
    "        true_list[0] += y1.detach().cpu().tolist()\n",
    "        true_list[1] += y2.detach().cpu().tolist()\n",
    "        true_list[2] += y3.detach().cpu().tolist()\n",
    "        true_list[3] += y4.detach().cpu().tolist()\n",
    "        true_list[4] += y5.detach().cpu().tolist()\n",
    "        \n",
    "        # print(pred_list)\n",
    "        \n",
    "        # for idx in range(BATCH_SIZE):\n",
    "        #     plt.imshow(x[idx].detach().cpu().permute(1, 2, 0))\n",
    "        #     print(keys[y1[idx]], keys[y2[idx]], keys[y3[idx]], keys[y4[idx]], keys[y5[idx]])\n",
    "        #     print(keys[pred1[idx]], keys[pred2[idx]], keys[pred3[idx]], keys[pred4[idx]], keys[pred5[idx]])\n",
    "        #     break\n",
    "        # break"
   ]
  },
  {
   "cell_type": "code",
   "execution_count": 18,
   "id": "92da9593-cd5f-48e4-a4ad-0e950f0a4ba9",
   "metadata": {},
   "outputs": [],
   "source": [
    "pred_list = np.array(pred_list)\n",
    "true_list = np.array(true_list)"
   ]
  },
  {
   "cell_type": "code",
   "execution_count": 19,
   "id": "c88017d6-3fa2-4fe2-ac76-a903e441bce3",
   "metadata": {},
   "outputs": [
    {
     "data": {
      "text/plain": [
       "(5, 16465)"
      ]
     },
     "execution_count": 19,
     "metadata": {},
     "output_type": "execute_result"
    }
   ],
   "source": [
    "(pred_list==true_list).shape"
   ]
  },
  {
   "cell_type": "code",
   "execution_count": 24,
   "id": "3e2d2d29-d904-4c1a-b60c-b848ba0b8e2f",
   "metadata": {},
   "outputs": [
    {
     "data": {
      "text/plain": [
       "array([0.88017006, 0.7792894 , 0.73877923, 0.74667476, 0.86292135])"
      ]
     },
     "execution_count": 24,
     "metadata": {},
     "output_type": "execute_result"
    }
   ],
   "source": [
    "np.sum(pred_list==true_list, axis=1)/16465"
   ]
  },
  {
   "cell_type": "code",
   "execution_count": 25,
   "id": "82d27ba3-5e47-4084-b36f-fc685f8684be",
   "metadata": {},
   "outputs": [
    {
     "data": {
      "text/plain": [
       "0.8015669602186456"
      ]
     },
     "execution_count": 25,
     "metadata": {},
     "output_type": "execute_result"
    }
   ],
   "source": [
    "np.average(np.sum(pred_list==true_list, axis=1))/16465"
   ]
  },
  {
   "cell_type": "markdown",
   "id": "4edeb358-ce10-4f8c-8b84-960f3a84aa93",
   "metadata": {},
   "source": [
    "# visalization"
   ]
  },
  {
   "cell_type": "code",
   "execution_count": 22,
   "id": "4397d05f-4478-4dbb-82d7-02e244b27e2f",
   "metadata": {},
   "outputs": [],
   "source": [
    "keys = \"0123456789abcdefghijklmnopqrstuvwxyzABCDEFGHIJKLMNOPQRSTUVWXYZ\""
   ]
  },
  {
   "cell_type": "code",
   "execution_count": 23,
   "id": "c8142d43-0414-4805-9964-cd6a720ccc9c",
   "metadata": {},
   "outputs": [
    {
     "data": {
      "image/png": "[encoded data removed]",
      "text/plain": [
       "<Figure size 3600x3600 with 1 Axes>"
      ]
     },
     "metadata": {
      "needs_background": "light"
     },
     "output_type": "display_data"
    }
   ],
   "source": [
    "for (x, y) in test_dataloader:\n",
    "    with torch.no_grad():\n",
    "        x = x.to(DEVICE)\n",
    "        y = y.to(DEVICE)\n",
    "\n",
    "        y1, y2, y3, y4, y5 = y[:, 0], y[:, 1], y[:, 2], y[:, 3], y[:, 4]\n",
    "\n",
    "        pred1, pred2, pred3, pred4, pred5 = model(x)\n",
    "        pred1 = torch.argmax(pred1, -1)\n",
    "        pred2 = torch.argmax(pred2, -1)\n",
    "        pred3 = torch.argmax(pred3, -1)\n",
    "        pred4 = torch.argmax(pred4, -1)\n",
    "        pred5 = torch.argmax(pred5, -1)\n",
    "        \n",
    "        y1 = list(map(lambda x: keys[x], y1))\n",
    "        y2 = list(map(lambda x: keys[x], y2))\n",
    "        y3 = list(map(lambda x: keys[x], y3))\n",
    "        y4 = list(map(lambda x: keys[x], y4))\n",
    "        y5 = list(map(lambda x: keys[x], y5))\n",
    "        \n",
    "        pred1 = list(map(lambda x: keys[x], pred1))\n",
    "        pred2 = list(map(lambda x: keys[x], pred2))\n",
    "        pred3 = list(map(lambda x: keys[x], pred3))\n",
    "        pred4 = list(map(lambda x: keys[x], pred4))\n",
    "        pred5 = list(map(lambda x: keys[x], pred5))\n",
    "        \n",
    "        \n",
    "        for idx in range(BATCH_SIZE):\n",
    "            true_str = f'{y1[idx]} {y2[idx]} {y3[idx]} {y4[idx]} {y5[idx]}'\n",
    "            pred_str = f'{pred1[idx]} {pred2[idx]} {pred3[idx]} {pred4[idx]} {pred5[idx]}'\n",
    "            plt.figure(figsize=(50,50))\n",
    "            plt.subplot(8, 8, idx+1)\n",
    "            plt.title(f'{true_str} / {pred_str}')\n",
    "            plt.imshow(x[idx].detach().cpu().permute(1, 2, 0))\n",
    "        break"
   ]
  },
  {
   "cell_type": "code",
   "execution_count": null,
   "id": "c1babc80-338b-4ba9-902b-eb5d81ebbec9",
   "metadata": {},
   "outputs": [],
   "source": []
  }
 ],
 "metadata": {
  "kernelspec": {
   "display_name": "Python 3 (ipykernel)",
   "language": "python",
   "name": "python3"
  },
  "language_info": {
   "codemirror_mode": {
    "name": "ipython",
    "version": 3
   },
   "file_extension": ".py",
   "mimetype": "text/x-python",
   "name": "python",
   "nbconvert_exporter": "python",
   "pygments_lexer": "ipython3",
   "version": "3.9.7"
  }
 },
 "nbformat": 4,
 "nbformat_minor": 5
}
