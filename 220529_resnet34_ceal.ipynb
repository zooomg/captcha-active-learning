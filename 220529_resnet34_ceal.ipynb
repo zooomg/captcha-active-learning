{
 "cells": [
  {
   "cell_type": "code",
   "execution_count": 1,
   "id": "3e146faa-c316-47bb-ae52-0d2a4f6adefe",
   "metadata": {},
   "outputs": [],
   "source": [
    "import torch\n",
    "from torch.utils.data import DataLoader\n",
    "import torch.nn as nn\n",
    "from torchvision import datasets\n",
    "import torchvision.transforms as transforms\n",
    "import matplotlib.pyplot as plt\n",
    "from tqdm import tqdm\n",
    "import time\n",
    "import numpy as np\n",
    "import IPython.display as ipd\n",
    "from model.resnet import resnet152, resnet34\n",
    "\n",
    "from utils.dataloader import CaptchaDataset\n",
    "\n",
    "from sklearn.model_selection import train_test_split\n",
    "import os"
   ]
  },
  {
   "cell_type": "markdown",
   "id": "765da0be-f2fd-4ad5-9229-7b9889af75c6",
   "metadata": {},
   "source": [
    "# hyperparameter"
   ]
  },
  {
   "cell_type": "code",
   "execution_count": 2,
   "id": "aa051e42-ba1d-404f-a9af-15c7331b8e6a",
   "metadata": {},
   "outputs": [],
   "source": [
    "EPOCHS = 5\n",
    "CUDA = torch.cuda.is_available()\n",
    "DEVICE = 'cuda' if CUDA else 'cpu'\n",
    "MODEL_PATH = './weights/resnet34_ceal'\n",
    "INIT_MODEL_PATH = './weights/resnet34_ceal_init'\n",
    "BATCH_SIZE = 4\n",
    "PATIENCE = 10"
   ]
  },
  {
   "cell_type": "code",
   "execution_count": 3,
   "id": "fd4b3985-ebd5-49ad-97f3-7842245b929a",
   "metadata": {},
   "outputs": [],
   "source": [
    "INITIAL_ANNOTATED_PERCENT = 0.1\n",
    "MAXIMUM_ITERATIONS = 30\n",
    "THRESHOLD_DECAY = 0.0033\n",
    "_DELTA = 0.05\n",
    "UNCERTAIN_SAMPLES_SIZE = 1000\n",
    "UNCERTAIN_CRITERIA = 'lc'\n",
    "COST_EFFECTIVE = True\n",
    "FINE_TUNNING_INTERVAL = 1"
   ]
  },
  {
   "cell_type": "markdown",
   "id": "f0848097-b68f-4a5b-8e31-bc79b10f2d4a",
   "metadata": {},
   "source": [
    "# dataloader"
   ]
  },
  {
   "cell_type": "code",
   "execution_count": 4,
   "id": "247807b6-b494-4aae-b38a-696da29bf332",
   "metadata": {},
   "outputs": [],
   "source": [
    "image_transform = transforms.Compose([\n",
    "    # transforms.Resize([224, 224]),\n",
    "    transforms.ToTensor(),\n",
    "    # transforms.Normalize(mean=[0.485, 0.456, 0.406],\n",
    "    #                      std=[0.229, 0.224, 0.225])\n",
    "])\n",
    "\n",
    "dataset = CaptchaDataset('./Large_Captcha_Dataset', isFilter=True, isCrop=True)"
   ]
  },
  {
   "cell_type": "code",
   "execution_count": 5,
   "id": "1916391a-d1c8-45d7-83fe-8fd1c234bf2d",
   "metadata": {},
   "outputs": [],
   "source": [
    "pool_size = int(0.8 * len(dataset))\n",
    "test_size = len(dataset) - pool_size\n",
    "pool_dataset, test_dataset = torch.utils.data.random_split(dataset, [pool_size, test_size])"
   ]
  },
  {
   "cell_type": "code",
   "execution_count": 6,
   "id": "6d6a4124-15bc-404f-8048-60461242084b",
   "metadata": {},
   "outputs": [],
   "source": [
    "pool_size = int(0.9 * len(pool_dataset))\n",
    "init_size = len(pool_dataset)-pool_size\n",
    "pool_dataset, init_dataset = torch.utils.data.random_split(pool_dataset, [pool_size, init_size])"
   ]
  },
  {
   "cell_type": "code",
   "execution_count": 7,
   "id": "52c13d1e-e39b-475c-b855-3ee863d927ff",
   "metadata": {},
   "outputs": [],
   "source": [
    "pool_dataloader = DataLoader(pool_dataset, batch_size=BATCH_SIZE, shuffle=True)\n",
    "init_dataloader = DataLoader(init_dataset, batch_size=BATCH_SIZE, shuffle=True)\n",
    "test_dataloader = DataLoader(test_dataset, batch_size=BATCH_SIZE, shuffle=True)"
   ]
  },
  {
   "cell_type": "markdown",
   "id": "b5f117f1-1e36-43b0-b355-aa7b1bfb1ff6",
   "metadata": {},
   "source": [
    "# model"
   ]
  },
  {
   "cell_type": "code",
   "execution_count": 7,
   "id": "b70d4b77-97f9-4700-9d95-1ec7a10626da",
   "metadata": {},
   "outputs": [],
   "source": [
    "model = resnet34()"
   ]
  },
  {
   "cell_type": "code",
   "execution_count": 8,
   "id": "226a8283-c68c-4dcf-a562-2eff2025098d",
   "metadata": {},
   "outputs": [],
   "source": [
    "if CUDA:\n",
    "    model = model.cuda()"
   ]
  },
  {
   "cell_type": "markdown",
   "id": "ca79993a-b1b1-4826-8906-11e20da55402",
   "metadata": {},
   "source": [
    "# train"
   ]
  },
  {
   "cell_type": "code",
   "execution_count": 8,
   "id": "9d727a93-1931-4c02-bbb9-b416c354d249",
   "metadata": {},
   "outputs": [],
   "source": [
    "loss_history = []\n",
    "val_loss_history = []"
   ]
  },
  {
   "cell_type": "code",
   "execution_count": 9,
   "id": "587e1207-72e6-4f23-a145-707ffe6ae747",
   "metadata": {},
   "outputs": [],
   "source": [
    "def train(model, train_dataloader):\n",
    "    model.train()\n",
    "    \n",
    "    criterion = nn.CrossEntropyLoss()\n",
    "    optimizer = torch.optim.AdamW(model.parameters(), lr=1e-5)\n",
    "    \n",
    "    min_loss = 20.\n",
    "    stop_cnt = 0\n",
    "    for e in range(EPOCHS):\n",
    "        start_time = time.time()\n",
    "        current_loss = []\n",
    "        current_val_loss = []\n",
    "\n",
    "        for (x, y) in tqdm(train_dataloader):\n",
    "            optimizer.zero_grad()\n",
    "            x = x.to(DEVICE)\n",
    "            y = y.to(DEVICE)\n",
    "\n",
    "            y1, y2, y3, y4, y5 = y[:, 0], y[:, 1], y[:, 2], y[:, 3], y[:, 4]\n",
    "\n",
    "            pred1, pred2, pred3, pred4, pred5 = model(x)\n",
    "\n",
    "            loss1 = criterion(pred1, y1)\n",
    "            loss2 = criterion(pred2, y2)\n",
    "            loss3 = criterion(pred3, y3)\n",
    "            loss4 = criterion(pred4, y4)\n",
    "            loss5 = criterion(pred5, y5)\n",
    "            loss = loss1 + loss2 + loss3 + loss4 + loss5\n",
    "            current_loss.append(loss.item())\n",
    "            loss.backward()\n",
    "            optimizer.step()\n",
    "\n",
    "        current_loss = np.mean(current_loss).item()\n",
    "        loss_history.append(current_loss)\n",
    "\n",
    "        if current_loss < min_loss:\n",
    "            min_loss = current_loss\n",
    "            torch.save(model.state_dict(), MODEL_PATH)\n",
    "\n",
    "        ipd.clear_output(wait=True)\n",
    "        print(f\"{e+1}/{EPOCHS}, {time.time()-start_time:.2f} sec/epoch\")\n",
    "        print(f\"current loss={current_loss:.4f}\")\n",
    "        plt.figure(figsize=(20,1),dpi=120)\n",
    "        plt.scatter(np.arange(len(loss_history)), loss_history, label='train')\n",
    "        plt.legend(loc=1)\n",
    "        plt.show()\n"
   ]
  },
  {
   "cell_type": "markdown",
   "id": "7f46a5d0-a6fe-4d05-aaa6-0465030b2a6a",
   "metadata": {},
   "source": [
    "# test"
   ]
  },
  {
   "cell_type": "code",
   "execution_count": 20,
   "id": "a930d8d8-6eaa-46d7-ac65-ba5f6a21e610",
   "metadata": {},
   "outputs": [
    {
     "data": {
      "text/plain": [
       "'done'"
      ]
     },
     "execution_count": 20,
     "metadata": {},
     "output_type": "execute_result"
    }
   ],
   "source": [
    "model.eval()\n",
    "model.load_state_dict(torch.load(MODEL_PATH))\n",
    "'done'"
   ]
  },
  {
   "cell_type": "code",
   "execution_count": 10,
   "id": "d4f5c17f-595d-4e37-9871-67d2641c331b",
   "metadata": {},
   "outputs": [],
   "source": [
    "def evaluate(model, test_dataloader):\n",
    "    model.eval()\n",
    "    criterion = nn.CrossEntropyLoss()\n",
    "    optimizer = torch.optim.AdamW(model.parameters(), lr=1e-5)\n",
    "    \n",
    "    pred_list = [[] for i in range(5)]\n",
    "    true_list = [[] for i in range(5)]\n",
    "    current_loss = []\n",
    "\n",
    "    for (x, y) in tqdm(test_dataloader):\n",
    "        with torch.no_grad():\n",
    "            x = x.to(DEVICE)\n",
    "            y = y.to(DEVICE)\n",
    "\n",
    "            y1, y2, y3, y4, y5 = y[:, 0], y[:, 1], y[:, 2], y[:, 3], y[:, 4]\n",
    "\n",
    "            pred1, pred2, pred3, pred4, pred5 = model(x)\n",
    "            \n",
    "            loss1 = criterion(pred1, y1)\n",
    "            loss2 = criterion(pred2, y2)\n",
    "            loss3 = criterion(pred3, y3)\n",
    "            loss4 = criterion(pred4, y4)\n",
    "            loss5 = criterion(pred5, y5)\n",
    "            loss = loss1 + loss2 + loss3 + loss4 + loss5\n",
    "            current_loss.append(loss.item())\n",
    "            \n",
    "            \n",
    "            pred1 = torch.argmax(pred1, -1)\n",
    "            pred2 = torch.argmax(pred2, -1)\n",
    "            pred3 = torch.argmax(pred3, -1)\n",
    "            pred4 = torch.argmax(pred4, -1)\n",
    "            pred5 = torch.argmax(pred5, -1)\n",
    "            \n",
    "\n",
    "            pred_list[0] += pred1.detach().cpu().tolist()\n",
    "            pred_list[1] += pred2.detach().cpu().tolist()\n",
    "            pred_list[2] += pred3.detach().cpu().tolist()\n",
    "            pred_list[3] += pred4.detach().cpu().tolist()\n",
    "            pred_list[4] += pred5.detach().cpu().tolist()\n",
    "\n",
    "            true_list[0] += y1.detach().cpu().tolist()\n",
    "            true_list[1] += y2.detach().cpu().tolist()\n",
    "            true_list[2] += y3.detach().cpu().tolist()\n",
    "            true_list[3] += y4.detach().cpu().tolist()\n",
    "            true_list[4] += y5.detach().cpu().tolist()\n",
    "            \n",
    "    pred_list = np.array(pred_list)\n",
    "    true_list = np.array(true_list)\n",
    "\n",
    "    loss = np.mean(current_loss).item()\n",
    "    accuracy = np.sum(pred_list==true_list, axis=1)/true_list.shape[-1]\n",
    "    \n",
    "    return loss, accuracy"
   ]
  },
  {
   "cell_type": "markdown",
   "id": "628d2631-5de3-4fdf-9a99-6f0ec5aa5d67",
   "metadata": {},
   "source": [
    "# CEAL"
   ]
  },
  {
   "cell_type": "code",
   "execution_count": 11,
   "id": "c9110add-a14c-41f1-9a9c-f38827017331",
   "metadata": {},
   "outputs": [],
   "source": [
    "def initialize_model(init_dataloader, test_dataloader):\n",
    "    model = resnet34()\n",
    "    if CUDA:\n",
    "        model = model.cuda()\n",
    "    if os.path.exists(INIT_MODEL_PATH):\n",
    "        model.load_state_dict(torch.load(INIT_MODEL_PATH))\n",
    "    else:\n",
    "        train(model, init_dataloader)\n",
    "        torch.save(model.state_dict(), INIT_MODEL_PATH)\n",
    "    loss, acc = evaluate(model, test_dataloader)\n",
    "    print('Initial Test Loss: ', loss, '\\nInitial Test Accuracy: ', acc)\n",
    "    return model"
   ]
  },
  {
   "cell_type": "code",
   "execution_count": 12,
   "id": "1f204a89-fbc1-4e61-b40c-db7eefa2473e",
   "metadata": {},
   "outputs": [],
   "source": [
    "# Random sampling\n",
    "def random_sampling(y_pred_prob, n_samples):\n",
    "    return np.random.choice(range(len(y_pred_prob)), n_samples)"
   ]
  },
  {
   "cell_type": "code",
   "execution_count": 13,
   "id": "e905a9c8-b2f7-45a9-9ab5-b069114e61ef",
   "metadata": {},
   "outputs": [],
   "source": [
    "# Rank all the unlabeled samples in an ascending order according to the least confidence\n",
    "def least_confidence(y_pred_prob, n_samples):\n",
    "    origin_index = np.arange(0, len(y_pred_prob))\n",
    "    max_prob = np.max(y_pred_prob, axis=1)\n",
    "    pred_label = np.argmax(y_pred_prob, axis=1)\n",
    "\n",
    "    lci = np.column_stack((origin_index,\n",
    "                           max_prob,\n",
    "                           pred_label))\n",
    "    lci = lci[lci[:, 1].argsort()]\n",
    "    return lci[:n_samples], lci[:, 0].astype(int)[:n_samples]"
   ]
  },
  {
   "cell_type": "code",
   "execution_count": 14,
   "id": "6c8126cb-7feb-4fd7-a7ef-2e5f7bbc4526",
   "metadata": {},
   "outputs": [],
   "source": [
    "# Rank all the unlabeled samples in an ascending order according to the margin sampling\n",
    "def margin_sampling(y_pred_prob, n_samples):\n",
    "    origin_index = np.arange(0, len(y_pred_prob))\n",
    "    margim_sampling = np.diff(-np.sort(y_pred_prob)[:, ::-1][:, :2])\n",
    "    pred_label = np.argmax(y_pred_prob, axis=1)\n",
    "    msi = np.column_stack((origin_index,\n",
    "                           margim_sampling,\n",
    "                           pred_label))\n",
    "    msi = msi[msi[:, 1].argsort()]\n",
    "    return msi[:n_samples], msi[:, 0].astype(int)[:n_samples]"
   ]
  },
  {
   "cell_type": "code",
   "execution_count": 15,
   "id": "aaa4713c-da9c-4469-a9b3-cb9e90dfa423",
   "metadata": {},
   "outputs": [],
   "source": [
    "# Rank all the unlabeled samples in an descending order according to their entropy\n",
    "def entropy(y_pred_prob, n_samples):\n",
    "    # entropy = stats.entropy(y_pred_prob.T)\n",
    "    # entropy = np.nan_to_num(entropy)\n",
    "    origin_index = np.arange(0, len(y_pred_prob))\n",
    "    entropy = -np.nansum(np.multiply(y_pred_prob, np.log(y_pred_prob)), axis=1)\n",
    "    pred_label = np.argmax(y_pred_prob, axis=1)\n",
    "    eni = np.column_stack((origin_index,\n",
    "                           entropy,\n",
    "                           pred_label))\n",
    "\n",
    "    eni = eni[(-eni[:, 1]).argsort()]\n",
    "    return eni[:n_samples], eni[:, 0].astype(int)[:n_samples]"
   ]
  },
  {
   "cell_type": "code",
   "execution_count": 16,
   "id": "47335897-5c7b-47e2-b8f7-ba3a88e38fb1",
   "metadata": {},
   "outputs": [],
   "source": [
    "def get_high_confidence_samples(y_pred_prob, delta):\n",
    "    eni, eni_idx = entropy(y_pred_prob, len(y_pred_prob))\n",
    "    hcs = eni[eni[:, 1] < delta]\n",
    "    return hcs[:, 0].astype(int), hcs[:, 2].astype(int)"
   ]
  },
  {
   "cell_type": "code",
   "execution_count": 17,
   "id": "05f148ae-cb4e-48d3-87ff-0485287f9b6c",
   "metadata": {},
   "outputs": [],
   "source": [
    "def get_uncertain_samples(y_pred_prob, n_samples, criteria):\n",
    "    if criteria == 'lc':\n",
    "        return least_confidence(y_pred_prob, n_samples)\n",
    "    elif criteria == 'ms':\n",
    "        return margin_sampling(y_pred_prob, n_samples)\n",
    "    elif criteria == 'en':\n",
    "        return entropy(y_pred_prob, n_samples)\n",
    "    elif criteria == 'rs':\n",
    "        return None, random_sampling(y_pred_prob, n_samples)\n",
    "    else:\n",
    "        raise ValueError(\n",
    "            'Unknown criteria value \\'%s\\', use one of [\\'rs\\',\\'lc\\',\\'ms\\',\\'en\\']' % criteria)"
   ]
  },
  {
   "cell_type": "code",
   "execution_count": 18,
   "id": "f5eb168c-f6db-46d2-9a41-912b5c762ae3",
   "metadata": {},
   "outputs": [],
   "source": [
    "def run_ceal():\n",
    "    model = initialize_model(init_dataloader, test_dataloader)\n",
    "    \n",
    "    for i in range(MAXIMUM_ITERATIONS):\n",
    "        y_pred_probs = []\n",
    "        for (x, y) in tqdm(pool_dataloader):\n",
    "            x = x.to(DEVICE)\n",
    "            y_pred_prob = model(x)\n",
    "            y_pred_prob = list(map(lambda _y: _y.detach().cpu().numpy(), y_pred_prob))\n",
    "            # y_pred_prob = y_pred_prob.detach().cpu().numpy()\n",
    "            y_pred_probs.append(y_pred_prob)\n",
    "\n",
    "            break\n",
    "        y_pred_probs = np.array(y_pred_probs)\n",
    "        y_pred_probs = np.transpose(y_pred_probs, (0, 2, 1, 3)).reshape(-1, 5, 62)\n",
    "\n",
    "        _, un_idx = get_uncertain_samples(y_pred_probs, UNCERTAIN_SAMPLES_SIZE, criteria=UNCERTAIN_CRITERIA)\n",
    "        \n",
    "        un_idx = [pool_dataloader.sampler.data_source.indices[idx] for idx in un_idx]\n",
    "        \n",
    "        init_dataloader.sampler.data_source.indices.extend(un_idx)\n",
    "        \n",
    "        if COST_EFFECTIVE:\n",
    "            hcs_idx, hcs_labels = get_high_confidence_samples(y_pred_prob, _DELTA)\n",
    "            \n",
    "            hcs_idx = [pool_dataloader.sampler.data_source.indices[idx] for idx in hcs_idx]\n",
    "            \n",
    "            hcs_idx = [x for x in hcs_idx if x not in list(set(un_idx) & set(hcs_idx))]\n",
    "            \n",
    "            init_dataloader.sampler.data_source.indices.extend(hcs_idx)\n",
    "            \n",
    "            for idx in range(len(hcs_idx)):\n",
    "                init_dataloader.dataset.dataset.dataset.y[hcs_idx[idx]] = hcs_labels[idx]\n",
    "        \n",
    "        if i % FINE_TUNNING_INTERVAL == 0 :\n",
    "            train(model, init_dataloader)\n",
    "            _DELTA -= (THRESHOLD_DECAY * FINE_TUNNING_INTERVAL)\n",
    "        \n",
    "        for val in un_idx:\n",
    "            pool_dataloader.sampler.data_source.indices.remove(val)\n",
    "        \n",
    "        _, acc = evaluate(model, test_dataloader)\n",
    "        \n",
    "        print(\n",
    "            \"Iteration: {}, len(dl): {}, len(du): {},\"\n",
    "            \" len(dh) {}, acc: {} \".format(\n",
    "                iteration, len(init_dataloader.sampler.data_source.indices),\n",
    "                len(pool_dataloader.sampler.data_source.indices), len(hcs_idx), acc))\n",
    "\n"
   ]
  },
  {
   "cell_type": "code",
   "execution_count": 19,
   "id": "297902ae-6c3a-422d-b7e5-cad2d9267141",
   "metadata": {},
   "outputs": [
    {
     "name": "stdout",
     "output_type": "stream",
     "text": [
      "5/5, 42.77 sec/epoch\n",
      "current loss=18.0897\n"
     ]
    },
    {
     "data": {
      "image/png": "[encoded data removed]",
      "text/plain": [
       "<Figure size 2400x120 with 1 Axes>"
      ]
     },
     "metadata": {
      "needs_background": "light"
     },
     "output_type": "display_data"
    },
    {
     "name": "stderr",
     "output_type": "stream",
     "text": [
      "100%|██████████████████████████████████████| 4117/4117 [00:34<00:00, 119.90it/s]\n"
     ]
    },
    {
     "name": "stdout",
     "output_type": "stream",
     "text": [
      "Initial Test Loss:  18.073303576606786 \n",
      "Initial Test Accuracy:  [0.19051379 0.12996478 0.13130086 0.13075428 0.13767764]\n"
     ]
    },
    {
     "name": "stderr",
     "output_type": "stream",
     "text": [
      "  0%|                                                 | 0/14819 [00:00<?, ?it/s]\n"
     ]
    },
    {
     "ename": "UnboundLocalError",
     "evalue": "local variable '_DELTA' referenced before assignment",
     "output_type": "error",
     "traceback": [
      "\u001b[0;31m---------------------------------------------------------------------------\u001b[0m",
      "\u001b[0;31mUnboundLocalError\u001b[0m                         Traceback (most recent call last)",
      "Input \u001b[0;32mIn [19]\u001b[0m, in \u001b[0;36m<cell line: 1>\u001b[0;34m()\u001b[0m\n\u001b[0;32m----> 1\u001b[0m \u001b[43mrun_ceal\u001b[49m\u001b[43m(\u001b[49m\u001b[43m)\u001b[49m\n",
      "Input \u001b[0;32mIn [18]\u001b[0m, in \u001b[0;36mrun_ceal\u001b[0;34m()\u001b[0m\n\u001b[1;32m     21\u001b[0m init_dataloader\u001b[38;5;241m.\u001b[39msampler\u001b[38;5;241m.\u001b[39mdata_source\u001b[38;5;241m.\u001b[39mindices\u001b[38;5;241m.\u001b[39mextend(un_idx)\n\u001b[1;32m     23\u001b[0m \u001b[38;5;28;01mif\u001b[39;00m COST_EFFECTIVE:\n\u001b[0;32m---> 24\u001b[0m     hcs_idx, hcs_labels \u001b[38;5;241m=\u001b[39m get_high_confidence_samples(y_pred_prob, \u001b[43m_DELTA\u001b[49m)\n\u001b[1;32m     26\u001b[0m     hcs_idx \u001b[38;5;241m=\u001b[39m [pool_dataloader\u001b[38;5;241m.\u001b[39msampler\u001b[38;5;241m.\u001b[39mdata_source\u001b[38;5;241m.\u001b[39mindices[idx] \u001b[38;5;28;01mfor\u001b[39;00m idx \u001b[38;5;129;01min\u001b[39;00m hcs_idx]\n\u001b[1;32m     28\u001b[0m     hcs_idx \u001b[38;5;241m=\u001b[39m [x \u001b[38;5;28;01mfor\u001b[39;00m x \u001b[38;5;129;01min\u001b[39;00m hcs_idx \u001b[38;5;28;01mif\u001b[39;00m x \u001b[38;5;129;01mnot\u001b[39;00m \u001b[38;5;129;01min\u001b[39;00m \u001b[38;5;28mlist\u001b[39m(\u001b[38;5;28mset\u001b[39m(un_idx) \u001b[38;5;241m&\u001b[39m \u001b[38;5;28mset\u001b[39m(hcs_idx))]\n",
      "\u001b[0;31mUnboundLocalError\u001b[0m: local variable '_DELTA' referenced before assignment"
     ]
    }
   ],
   "source": [
    "run_ceal()"
   ]
  },
  {
   "cell_type": "markdown",
   "id": "4edeb358-ce10-4f8c-8b84-960f3a84aa93",
   "metadata": {},
   "source": [
    "# visalization"
   ]
  },
  {
   "cell_type": "code",
   "execution_count": 33,
   "id": "4397d05f-4478-4dbb-82d7-02e244b27e2f",
   "metadata": {},
   "outputs": [],
   "source": [
    "keys = \"0123456789abcdefghijklmnopqrstuvwxyzABCDEFGHIJKLMNOPQRSTUVWXYZ\""
   ]
  },
  {
   "cell_type": "code",
   "execution_count": 49,
   "id": "c8142d43-0414-4805-9964-cd6a720ccc9c",
   "metadata": {},
   "outputs": [
    {
     "data": {
      "image/png": "[encoded data removed]",
      "text/plain": [
       "<Figure size 3600x3600 with 1 Axes>"
      ]
     },
     "metadata": {
      "needs_background": "light"
     },
     "output_type": "display_data"
    }
   ],
   "source": [
    "for (x, y) in test_dataloader:\n",
    "    with torch.no_grad():\n",
    "        x = x.to(DEVICE)\n",
    "        y = y.to(DEVICE)\n",
    "\n",
    "        y1, y2, y3, y4, y5 = y[:, 0], y[:, 1], y[:, 2], y[:, 3], y[:, 4]\n",
    "\n",
    "        pred1, pred2, pred3, pred4, pred5 = model(x)\n",
    "        pred1 = torch.argmax(pred1, -1)\n",
    "        pred2 = torch.argmax(pred2, -1)\n",
    "        pred3 = torch.argmax(pred3, -1)\n",
    "        pred4 = torch.argmax(pred4, -1)\n",
    "        pred5 = torch.argmax(pred5, -1)\n",
    "        \n",
    "        y1 = list(map(lambda x: keys[x], y1))\n",
    "        y2 = list(map(lambda x: keys[x], y2))\n",
    "        y3 = list(map(lambda x: keys[x], y3))\n",
    "        y4 = list(map(lambda x: keys[x], y4))\n",
    "        y5 = list(map(lambda x: keys[x], y5))\n",
    "        \n",
    "        pred1 = list(map(lambda x: keys[x], pred1))\n",
    "        pred2 = list(map(lambda x: keys[x], pred2))\n",
    "        pred3 = list(map(lambda x: keys[x], pred3))\n",
    "        pred4 = list(map(lambda x: keys[x], pred4))\n",
    "        pred5 = list(map(lambda x: keys[x], pred5))\n",
    "        \n",
    "        \n",
    "        for idx in range(BATCH_SIZE):\n",
    "            true_str = f'{y1[idx]} {y2[idx]} {y3[idx]} {y4[idx]} {y5[idx]}'\n",
    "            pred_str = f'{pred1[idx]} {pred2[idx]} {pred3[idx]} {pred4[idx]} {pred5[idx]}'\n",
    "            plt.figure(figsize=(50,50))\n",
    "            plt.subplot(8, 8, idx+1)\n",
    "            plt.title(f'{true_str} / {pred_str}')\n",
    "            plt.imshow(x[idx].detach().cpu().permute(1, 2, 0))\n",
    "        break"
   ]
  },
  {
   "cell_type": "code",
   "execution_count": null,
   "id": "c1babc80-338b-4ba9-902b-eb5d81ebbec9",
   "metadata": {},
   "outputs": [],
   "source": []
  }
 ],
 "metadata": {
  "kernelspec": {
   "display_name": "Python 3 (ipykernel)",
   "language": "python",
   "name": "python3"
  },
  "language_info": {
   "codemirror_mode": {
    "name": "ipython",
    "version": 3
   },
   "file_extension": ".py",
   "mimetype": "text/x-python",
   "name": "python",
   "nbconvert_exporter": "python",
   "pygments_lexer": "ipython3",
   "version": "3.9.12"
  }
 },
 "nbformat": 4,
 "nbformat_minor": 5
}
